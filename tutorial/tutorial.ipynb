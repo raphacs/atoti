{
 "cells": [
  {
   "attachments": {},
   "cell_type": "markdown",
   "metadata": {},
   "source": [
    "# Tutorial\n",
    "\n",
    "Este tutorial irá guiá-lo pelas principais funcionalidades do atoti, criando uma aplicação para analisar as vendas de uma empresa.\n",
    "\n",
    "Veremos como:\n",
    "\n",
    "- Carregar dados normalizados em várias tabelas para criar um cubo multidimensional.\n",
    "- Definir medidas agregadas para fornecer insights específicos da aplicação e de alto nível.\n",
    "- Construir gráficos e tabelas interativos sem código no JupyterLab.\n",
    "- Criar painéis na aplicação web integrada.\n",
    "\n",
    "\n",
    "Para obter mais informações sobre uma funcionalidade, você pode usar a referência da API ou pressionar <kbd>Shift ⇧</kbd> + <kbd>Tab ⇥</kbd> em um símbolo Python no JupyterLab."
   ]
  },
  {
   "attachments": {},
   "cell_type": "markdown",
   "metadata": {},
   "source": [
    "## Começando\n",
    "\n",
    "### Do CSV ao Cubo\n",
    "\n",
    "Nesta parte do tutorial, você criará seu primeiro cubo a partir de um arquivo CSV e aprenderá conceitos multidimensionais como _cube_, _dimension_, _hierarchy_, _measure_.\n",
    "\n",
    "Vamos começar criando uma _session_:"
   ]
  },
  {
   "cell_type": "code",
   "execution_count": null,
   "metadata": {},
   "outputs": [],
   "source": [
    "import atoti as tt\n",
    "\n",
    "session = tt.Session()"
   ]
  },
  {
   "attachments": {},
   "cell_type": "markdown",
   "metadata": {},
   "source": [
    "Agora podemos carregar os dados de um arquivo CSV em uma tabela em memória chamada de _table_:"
   ]
  },
  {
   "cell_type": "code",
   "execution_count": null,
   "metadata": {},
   "outputs": [],
   "source": [
    "sales_table = session.read_csv(\"data/sales.csv\", keys=[\"Sale ID\"])"
   ]
  },
  {
   "attachments": {},
   "cell_type": "markdown",
   "metadata": {},
   "source": [
    "Podemos dar uma olhada nos dados carregados.\n",
    "Eles são vendas de uma empresa:"
   ]
  },
  {
   "cell_type": "code",
   "execution_count": null,
   "metadata": {},
   "outputs": [],
   "source": [
    "sales_table.head()"
   ]
  },
  {
   "attachments": {},
   "cell_type": "markdown",
   "metadata": {},
   "source": [
    "Voltaremos às tabelas com mais detalhes mais tarde, por enquanto usaremos a que temos para criar um _cube_:"
   ]
  },
  {
   "cell_type": "code",
   "execution_count": null,
   "metadata": {},
   "outputs": [],
   "source": [
    "cube = session.create_cube(sales_table)"
   ]
  },
  {
   "attachments": {},
   "cell_type": "markdown",
   "metadata": {},
   "source": [
    "Isso mesmo, você criou seu primeiro cubo!\n",
    "Mas o que é um cubo exatamente e como usá-lo?"
   ]
  },
  {
   "attachments": {},
   "cell_type": "markdown",
   "metadata": {},
   "source": [
    "### Conceitos Multidimensionais\n",
    "\n",
    "Um _cube_ é uma visualização multidimensional de alguns dados, tornando fácil explorar, agregar, filtrar e comparar.\n",
    "Ele é chamado de cubo porque cada atributo dos dados pode ser representado como uma dimensão do cubo:\n",
    "\n",
    "<img alt=\"Multidimensional cube concept\" src=\"images/olap/cube-concept.svg\" width=\"400\" />\n",
    "\n",
    "Os eixos do cubo são chamados de _hierarchies_.\n",
    "O objetivo da análise multidimensional é visualizar alguns indicadores numéricos em coordenadas específicas do cubo.\n",
    "Esses indicadores são chamados de _measures_.\n",
    "Um exemplo de medida seria a quantidade de produtos vendidos.\n",
    "\n",
    "Podemos listar as hierarquias em nosso cubo:"
   ]
  },
  {
   "cell_type": "code",
   "execution_count": null,
   "metadata": {},
   "outputs": [],
   "source": [
    "# Dando um nome de variável mais curto para a propriedade hierarchies porque a usaremos muito.\n",
    "h = cube.hierarchies\n",
    "h"
   ]
  },
  {
   "attachments": {},
   "cell_type": "markdown",
   "metadata": {},
   "source": [
    "O cubo criou automaticamente uma hierarquia para cada coluna não numérica: **Date**, **Product**, **Sale ID** e **Shop**.\n",
    "\n",
    "Você pode ver que as hierarquias são agrupadas em dimensões.\n",
    "Aqui temos uma única dimensão chamada de **Sales**, que é o nome da tabela da qual as colunas vêm. Veremos como mover hierarquias entre dimensões mais tarde.\n",
    "\n",
    "As hierarquias também são compostas de _levels_.\n",
    "Níveis da mesma hierarquia são atributos com uma relação pai-filho.\n",
    "Por exemplo, uma cidade pertence a um país, então **Country** e **City** poderiam ser os dois níveis de uma **Geography** hierarquia.\n",
    "\n",
    "No momento, para simplificar, temos apenas hierarquias de um único nível."
   ]
  },
  {
   "cell_type": "code",
   "execution_count": null,
   "metadata": {},
   "outputs": [],
   "source": [
    "l = cube.levels"
   ]
  },
  {
   "attachments": {},
   "cell_type": "markdown",
   "metadata": {},
   "source": [
    "Vamos dar uma olhada nas medidas do cubo que foram inferidas dos dados:"
   ]
  },
  {
   "cell_type": "code",
   "execution_count": null,
   "metadata": {},
   "outputs": [],
   "source": [
    "m = cube.measures\n",
    "m"
   ]
  },
  {
   "attachments": {},
   "cell_type": "markdown",
   "metadata": {},
   "source": [
    "O cubo criou automaticamente as medidas _sum_ e _mean_ de agregações para todas as colunas numéricas do conjunto de dados.\n",
    "\n",
    "Observe que uma medida não é um único número de resultado, é mais uma fórmula que pode ser avaliada para quaisquer coordenadas do cubo.\n",
    "\n",
    "Por exemplo, podemos consultar a _grand total_ de **Quantity.SUM**, que significa somar as quantidades vendidas em todo o conjunto de dados:\n",
    "\n",
    "<img alt=\"Grand total\" src=\"images/olap/grand-total.svg\" width=\"400\" />"
   ]
  },
  {
   "cell_type": "code",
   "execution_count": null,
   "metadata": {},
   "outputs": [],
   "source": [
    "cube.query(m[\"Quantity.SUM\"])"
   ]
  },
  {
   "attachments": {},
   "cell_type": "markdown",
   "metadata": {},
   "source": [
    "Mas também podemos _dice_ consultar o cubo para obter a quantidade para cada **Shop**, o que significa tomar um _slice_ da cubo para cada **Shop**:\n",
    "\n",
    "<img alt=\"Dicing the cube\" src=\"images/olap/slices.svg\" width=\"400\" />"
   ]
  },
  {
   "cell_type": "code",
   "execution_count": null,
   "metadata": {},
   "outputs": [],
   "source": [
    "cube.query(m[\"Quantity.SUM\"], levels=[l[\"Shop\"]])"
   ]
  },
  {
   "attachments": {},
   "cell_type": "markdown",
   "metadata": {},
   "source": [
    "Podemos _slice_ em um único **Shop**:\n",
    "\n",
    "<img alt=\"Slicing the cube\" src=\"images/olap/slice.svg\" width=\"400\" />"
   ]
  },
  {
   "cell_type": "code",
   "execution_count": null,
   "metadata": {},
   "outputs": [],
   "source": [
    "cube.query(\n",
    "    m[\"Quantity.SUM\"],\n",
    "    filter=l[\"Shop\"] == \"shop_0\",\n",
    ")"
   ]
  },
  {
   "attachments": {},
   "cell_type": "markdown",
   "metadata": {},
   "source": [
    "Nós podemos fatiar ao longo de 2 eixos diferentes e obter a quantidade por produto e data.\n",
    "\n",
    "<img alt=\"Pivot table\" src=\"images/olap/pivot-table.svg\" width=\"400\" />"
   ]
  },
  {
   "cell_type": "code",
   "execution_count": null,
   "metadata": {},
   "outputs": [],
   "source": [
    "cube.query(m[\"Quantity.SUM\"], levels=[l[\"Date\"], l[\"Product\"]])"
   ]
  },
  {
   "attachments": {},
   "cell_type": "markdown",
   "metadata": {},
   "source": [
    "Podemos até mesmo combinar essas operações para fatiar em uma hierarquia e cortar em outras duas.\n",
    "\n",
    "<img alt=\"Slice and dice\" src=\"images/olap/slice-and-dice.svg\" width=\"400\" />"
   ]
  },
  {
   "cell_type": "code",
   "execution_count": null,
   "metadata": {},
   "outputs": [],
   "source": [
    "cube.query(\n",
    "    m[\"Quantity.SUM\"],\n",
    "    levels=[l[\"Date\"], l[\"Product\"]],\n",
    "    filter=l[\"Shop\"] == \"shop_0\",\n",
    ")"
   ]
  },
  {
   "attachments": {},
   "cell_type": "markdown",
   "metadata": {},
   "source": [
    "### Primeira visualização\n",
    "\n",
    "Até agora, usamos [cube.query()](../../lib/atoti/atoti.cube.rst#atoti.Cube.query) que retorna uma tabela como um pandas DataFrame, mas uma maneira melhor de visualizar dados multidimensionais é uma tabela dinâmica.\n",
    "Com a extensão JupyterLab da atoti, você pode fazer visualizações avançadas e interativas, como tabelas dinâmicas e gráficos diretamente no seu notebook chamando [session.visualize()](../../lib/atoti/atoti.session.rst#atoti.Session.visualize).\n",
    "\n",
    "Isso criará um widget e abrirá a aba do atoti à esquerda com ferramentas para manipular o widget.\n",
    "\n",
    "Vamos começar criando uma tabela dinâmica:\n",
    "\n",
    "- Execute `session.visualize()`.\n",
    "- No painel esquerdo, clique em uma medida como **Quantity.SUM** para adicionar isso.\n",
    "- Click em uma hierarquia como **Date** para obter a quantidade por data.\n",
    "- Arraste e solte outra hierarquia, como por exemplo: **Product** para **Columns** seção para obter a quantidade vendida por dia e por produto.\n",
    "\n",
    "![First pivot table](images/gifs/first-pivot-table.gif)"
   ]
  },
  {
   "cell_type": "code",
   "execution_count": null,
   "metadata": {},
   "outputs": [],
   "source": [
    "session.visualize()"
   ]
  },
  {
   "attachments": {},
   "cell_type": "markdown",
   "metadata": {},
   "source": [
    "Uma tabela dinâmica pode ser convertida em um gráfico.\n",
    "\n",
    "Por exemplo, vamos mudar para um gráfico de linha simples.\n",
    "\n",
    "![First atoti chart](images/gifs/first-chart.gif)"
   ]
  },
  {
   "cell_type": "code",
   "execution_count": null,
   "metadata": {},
   "outputs": [],
   "source": [
    "session.visualize()"
   ]
  },
  {
   "cell_type": "code",
   "execution_count": null,
   "metadata": {},
   "outputs": [],
   "source": [
    "session.link()"
   ]
  },
  {
   "attachments": {},
   "cell_type": "markdown",
   "metadata": {},
   "source": [
    "### Drilldown e filtros.\n",
    "\n",
    "A análise multidimensional é feita de cima para baixo: comece visualizando os indicadores no nível mais alto e depois aprofunde para explicar as principais cifras com mais detalhes.\n",
    "\n",
    "Por exemplo, podemos visualizar algumas medidas por data e depois aprofundar em **Shop** para uma data específica, e então ver os produtos vendidos por uma loja específica nesta data.\n",
    "\n",
    "Usando a representação anterior do cubo, é como se estivéssemos dando um zoom cada vez maior em uma parte do cubo.\n",
    "\n",
    "<img alt=\"Drilldown the cube\" src=\"images/olap/drilldown.svg\" width=\"1200\" />\n",
    "\n",
    "![Drilldown](images/gifs/drilldown.gif)"
   ]
  },
  {
   "cell_type": "code",
   "execution_count": null,
   "metadata": {},
   "outputs": [],
   "source": [
    "session.visualize()"
   ]
  },
  {
   "attachments": {},
   "cell_type": "markdown",
   "metadata": {},
   "source": [
    "As hierarquias podem ser filtradas ao construir widgets.\n",
    "Vamos aplicar um filtro no gráfico anterior e visualizar apenas a quantidade de um grupo de produtos selecionados.\n",
    "\n",
    "![Chart filter](images/gifs/filter-chart.gif)"
   ]
  },
  {
   "cell_type": "code",
   "execution_count": null,
   "metadata": {},
   "outputs": [],
   "source": [
    "session.visualize()"
   ]
  },
  {
   "attachments": {},
   "cell_type": "markdown",
   "metadata": {},
   "source": [
    "### Aplicativo de painel\n",
    "\n",
    "Ser capaz de construir rapidamente widgets dentro de um notebook sem codificação é bom para explorar rapidamente os dados, iterar em seu modelo e compartilhar alguns resultados.\n",
    "No entanto, para fornecer insights mais ricos, os painéis são ainda melhores.\n",
    "É por isso que o atoti vem com um aplicativo web que pode ser acessado fora do notebook e onde os widgets podem ser dispostos para formar painéis.\n",
    "\n",
    "O aplicativo pode ser acessado neste link:"
   ]
  },
  {
   "cell_type": "code",
   "execution_count": null,
   "metadata": {},
   "outputs": [],
   "source": [
    "session.link()"
   ]
  },
  {
   "attachments": {},
   "cell_type": "markdown",
   "metadata": {},
   "source": [
    "É possível publicar widgets construídos no notebook para o aplicativo clicando com o botão direito sobre eles e selecionando \"Publish widget in app\".\n",
    "Em seguida, estarão disponíveis na seção \"Saved widgets\".\n",
    "\n",
    "![Publish widget in application](images/gifs/open-in-app.gif)"
   ]
  },
  {
   "attachments": {},
   "cell_type": "markdown",
   "metadata": {},
   "source": [
    "## Enriquecendo o cubo\n",
    "\n",
    "Na seção anterior, você aprendeu como criar um cubo básico e manipulá-lo.\n",
    "Agora iremos enriquecer este cubo com atributos adicionais e medidas mais interessantes."
   ]
  },
  {
   "attachments": {},
   "cell_type": "markdown",
   "metadata": {},
   "source": [
    "### Join\n",
    "\n",
    "Atualmente, temos informações muito limitadas sobre nossos produtos: apenas o ID.\n",
    "Podemos carregar um CSV contendo mais detalhes em uma nova tabela:"
   ]
  },
  {
   "cell_type": "code",
   "execution_count": null,
   "metadata": {},
   "outputs": [],
   "source": [
    "products_table = session.read_csv(\"data/products.csv\", keys=[\"Product\"])"
   ]
  },
  {
   "attachments": {},
   "cell_type": "markdown",
   "metadata": {},
   "source": [
    "Observe que uma tabela pode ter um conjunto de chaves.\n",
    "Essas chaves são as colunas que tornam cada linha única.\n",
    "Aqui, é o ID do produto.\n",
    "\n",
    "Se você tentar inserir uma nova linha com as mesmas chaves de uma linha existente, ela substituirá a existente."
   ]
  },
  {
   "cell_type": "code",
   "execution_count": null,
   "metadata": {},
   "outputs": [],
   "source": [
    "products_table.head()"
   ]
  },
  {
   "attachments": {},
   "cell_type": "markdown",
   "metadata": {},
   "source": [
    "Esta tabela contém a categoria, subcategoria, tamanho, cor, preço de compra e marca do produto.\n",
    "Ambas as tabelas têm uma coluna **Product** que podemos usar para [join](../../lib/atoti/atoti.table.rst#atoti.Table.join) them."
   ]
  },
  {
   "cell_type": "code",
   "execution_count": null,
   "metadata": {},
   "outputs": [],
   "source": [
    "sales_table.join(products_table, sales_table[\"Product\"] == products_table[\"Product\"])"
   ]
  },
  {
   "attachments": {},
   "cell_type": "markdown",
   "metadata": {},
   "source": [
    "Observe que esta é uma junção semelhante a um banco de dados e não uma junção semelhante a pandas.\n",
    "Todos os detalhes de `products_table` não será embutido em `sales_table`.\n",
    "Em vez disso, apenas declara uma referência entre essas duas tabelas que o cubo pode usar para fornecer mais eixos analíticos.\n",
    "\n",
    "Você pode visualizar a estrutura das tabelas da sessão:"
   ]
  },
  {
   "cell_type": "code",
   "execution_count": null,
   "metadata": {},
   "outputs": [],
   "source": [
    "session.tables.schema"
   ]
  },
  {
   "attachments": {},
   "cell_type": "markdown",
   "metadata": {},
   "source": [
    "As novas colunas foram adicionadas automaticamente ao cubo como hierarquias, em uma dimensão com o mesmo nome da nova tabela:"
   ]
  },
  {
   "cell_type": "code",
   "execution_count": null,
   "metadata": {},
   "outputs": [],
   "source": [
    "h"
   ]
  },
  {
   "attachments": {},
   "cell_type": "markdown",
   "metadata": {},
   "source": [
    "Você pode usá-los diretamente em um novo widget.\n",
    "Por exemplo, vamos criar um gráfico de barras para visualizar o preço médio por subcategoria de produto:\n",
    "\n",
    "![Price per category](images/gifs/price-per-category.png)"
   ]
  },
  {
   "cell_type": "code",
   "execution_count": null,
   "metadata": {},
   "outputs": [],
   "source": [
    "session.visualize()"
   ]
  },
  {
   "attachments": {},
   "cell_type": "markdown",
   "metadata": {},
   "source": [
    "Também podemos fazer um gráfico de rosca para ver como todas as vendas são distribuídas entre as marcas:\n",
    "\n",
    "![Donut chart brands](images/gifs/donut-chart.png)"
   ]
  },
  {
   "cell_type": "code",
   "execution_count": null,
   "metadata": {},
   "outputs": [],
   "source": [
    "session.visualize()"
   ]
  },
  {
   "attachments": {},
   "cell_type": "markdown",
   "metadata": {},
   "source": [
    "Observe que após a junção podemos adicionar uma nova medida chamada **Purchase price.VALUE** com base na coluna correspondente da tabela unida.\n",
    "Esta medida representa o valor da coluna, por isso só é definida quando todas as chaves da tabela unida são expressas na consulta."
   ]
  },
  {
   "cell_type": "code",
   "execution_count": null,
   "metadata": {},
   "outputs": [],
   "source": [
    "m[\"Purchase price.VALUE\"] = tt.agg.single_value(products_table[\"Purchase price\"])"
   ]
  },
  {
   "attachments": {},
   "cell_type": "markdown",
   "metadata": {},
   "source": [
    "Por exemplo, podemos verificar o preço de compra por **Product**:"
   ]
  },
  {
   "cell_type": "code",
   "execution_count": null,
   "metadata": {},
   "outputs": [],
   "source": [
    "cube.query(m[\"Purchase price.VALUE\"], levels=[l[\"Product\"]])"
   ]
  },
  {
   "attachments": {},
   "cell_type": "markdown",
   "metadata": {},
   "source": [
    "De forma semelhante, podemos enriquecer os dados sobre as lojas:"
   ]
  },
  {
   "cell_type": "code",
   "execution_count": null,
   "metadata": {},
   "outputs": [],
   "source": [
    "shops_table = session.read_csv(\"data/shops.csv\", keys=[\"Shop ID\"])\n",
    "shops_table.head()"
   ]
  },
  {
   "cell_type": "code",
   "execution_count": null,
   "metadata": {},
   "outputs": [],
   "source": [
    "sales_table.join(shops_table, sales_table[\"Shop\"] == shops_table[\"Shop ID\"])\n",
    "session.tables.schema"
   ]
  },
  {
   "attachments": {},
   "cell_type": "markdown",
   "metadata": {},
   "source": [
    "### Novas medidas\n",
    "\n",
    "Até agora, usamos apenas as medidas padrão que são agregações básicas das colunas numéricas.\n",
    "Podemos adicionar novas medidas personalizadas ao nosso cubo."
   ]
  },
  {
   "attachments": {},
   "cell_type": "markdown",
   "metadata": {},
   "source": [
    "#### Preço Máximo\n",
    "\n",
    "Começaremos com uma agregação simples tomando o preço máximo da tabela de vendas:"
   ]
  },
  {
   "cell_type": "code",
   "execution_count": null,
   "metadata": {},
   "outputs": [],
   "source": [
    "m[\"Max price\"] = tt.agg.max(sales_table[\"Unit price\"])"
   ]
  },
  {
   "attachments": {},
   "cell_type": "markdown",
   "metadata": {},
   "source": [
    "Esta nova medida está disponível diretamente:"
   ]
  },
  {
   "cell_type": "code",
   "execution_count": null,
   "metadata": {},
   "outputs": [],
   "source": [
    "cube.query(m[\"Max price\"], include_totals=True, levels=[l[\"Category\"]])"
   ]
  },
  {
   "attachments": {},
   "cell_type": "markdown",
   "metadata": {},
   "source": [
    "#### Operações em nível de fato\n",
    "\n",
    "Para calcular agregações com base em dados que vêm diretamente das colunas de uma tabela, você pode passar o cálculo diretamente para a função de agregação desejada. Isso é mais eficiente do que primeiro converter as colunas em medidas antes da agregação.\n",
    "\n",
    "Vamos usar isso para calcular o valor total obtido com a venda dos produtos, bem como a média."
   ]
  },
  {
   "cell_type": "code",
   "execution_count": null,
   "metadata": {},
   "outputs": [],
   "source": [
    "m[\"Amount.SUM\"] = tt.agg.sum(sales_table[\"Quantity\"] * sales_table[\"Unit price\"])\n",
    "m[\"Amount.MEAN\"] = tt.agg.mean(\n",
    "    sales_table[\"Quantity\"] * sales_table[\"Unit price\"],\n",
    ")"
   ]
  },
  {
   "attachments": {},
   "cell_type": "markdown",
   "metadata": {},
   "source": [
    "Agora podemos traçar a evolução das vendas por país ao longo do tempo:\n",
    "\n",
    "![Amount per country over time](images/gifs/split-by-country.gif)"
   ]
  },
  {
   "cell_type": "code",
   "execution_count": null,
   "metadata": {},
   "outputs": [],
   "source": [
    "session.visualize()"
   ]
  },
  {
   "attachments": {},
   "cell_type": "markdown",
   "metadata": {},
   "source": [
    "#### Margem\n",
    "\n",
    "Agora que o preço de cada produto está disponível na tabela de produtos, podemos calcular a margem.\n",
    "\n",
    "Nós usamos o [OriginScope](../../lib/atoti/atoti.scope.origin_scope.rst#atoti.OriginScope) realizar a multiplicação da quantidade vendida pelo preço de compra de cada **Product** e depois faça a soma."
   ]
  },
  {
   "cell_type": "code",
   "execution_count": null,
   "metadata": {},
   "outputs": [],
   "source": [
    "cost = tt.agg.sum(\n",
    "    m[\"Quantity.SUM\"] * tt.agg.single_value(products_table[\"Purchase price\"]),\n",
    "    scope=tt.OriginScope(l[\"Product\"]),\n",
    ")"
   ]
  },
  {
   "cell_type": "code",
   "execution_count": null,
   "metadata": {},
   "outputs": [],
   "source": [
    "m[\"Margin\"] = m[\"Amount.SUM\"] - cost"
   ]
  },
  {
   "attachments": {},
   "cell_type": "markdown",
   "metadata": {},
   "source": [
    "Também podemos definir a taxa de margem que é a relação entre a margem e o valor vendido:"
   ]
  },
  {
   "cell_type": "code",
   "execution_count": null,
   "metadata": {},
   "outputs": [],
   "source": [
    "m[\"Margin rate\"] = m[\"Margin\"] / m[\"Amount.SUM\"]"
   ]
  },
  {
   "cell_type": "code",
   "execution_count": null,
   "metadata": {},
   "outputs": [],
   "source": [
    "cube.query(m[\"Margin\"], m[\"Margin rate\"], levels=[l[\"Product\"]])"
   ]
  },
  {
   "attachments": {},
   "cell_type": "markdown",
   "metadata": {},
   "source": [
    "Vamos usar essa taxa de margem para fazer um _Top 10_ filtre para ver os produtos com a melhor cotação.\n",
    "\n",
    "Observe que você não precisa colocar a medida de taxa e o nível do produto na tabela dinâmica para aplicar o filtro.\n",
    "\n",
    "![top10 filter on the margin rate](images/gifs/top10-margin.gif)"
   ]
  },
  {
   "cell_type": "code",
   "execution_count": null,
   "metadata": {},
   "outputs": [],
   "source": [
    "session.visualize()"
   ]
  },
  {
   "attachments": {},
   "cell_type": "markdown",
   "metadata": {},
   "source": [
    "#### Soma acumulada ao longo do tempo"
   ]
  },
  {
   "attachments": {},
   "cell_type": "markdown",
   "metadata": {},
   "source": [
    "Uma soma cumulativa é a soma parcial dos dados até o valor atual.\n",
    "Por exemplo, uma soma cumulativa ao longo do tempo pode ser usada para mostrar como algumas medidas mudam ao longo do tempo."
   ]
  },
  {
   "cell_type": "code",
   "execution_count": null,
   "metadata": {},
   "outputs": [],
   "source": [
    "m[\"Cumulative amount\"] = tt.agg.sum(\n",
    "    m[\"Amount.SUM\"], scope=tt.CumulativeScope(level=l[\"Date\"])\n",
    ")"
   ]
  },
  {
   "cell_type": "markdown",
   "metadata": {},
   "source": [
    "![Cumulative amount](images/gifs/cumulative-amount.png)"
   ]
  },
  {
   "cell_type": "code",
   "execution_count": null,
   "metadata": {},
   "outputs": [],
   "source": [
    "session.visualize()"
   ]
  },
  {
   "attachments": {},
   "cell_type": "markdown",
   "metadata": {},
   "source": [
    "#### Média por loja"
   ]
  },
  {
   "attachments": {},
   "cell_type": "markdown",
   "metadata": {},
   "source": [
    "As agregações também podem ser combinadas.\n",
    "Por exemplo, podemos somar dentro de um **Shop**: depois tire a média disso para ver quanto uma mesa vende em média:"
   ]
  },
  {
   "cell_type": "code",
   "execution_count": null,
   "metadata": {},
   "outputs": [],
   "source": [
    "m[\"Average amount per shop\"] = tt.agg.mean(\n",
    "    m[\"Amount.SUM\"], scope=tt.OriginScope(l[\"Shop\"])\n",
    ")"
   ]
  },
  {
   "cell_type": "code",
   "execution_count": null,
   "metadata": {},
   "outputs": [],
   "source": [
    "cube.query(\n",
    "    m[\"Average amount per shop\"], include_totals=True, levels=[l[\"Sub category\"]]\n",
    ")"
   ]
  },
  {
   "attachments": {},
   "cell_type": "markdown",
   "metadata": {},
   "source": [
    "### Hierarquias multiníveis"
   ]
  },
  {
   "attachments": {},
   "cell_type": "markdown",
   "metadata": {},
   "source": [
    "Até agora, todas as nossas hierarquias tinham apenas um nível, mas é melhor reagrupar os atributos com um relacionamento pai-filho na mesma hierarquia.\n",
    "\n",
    "Por exemplo, podemos agrupar os **Category**, **SubCategory** e **Product ID** níveis em uma hierarquia **Product**:"
   ]
  },
  {
   "cell_type": "code",
   "execution_count": null,
   "metadata": {},
   "outputs": [],
   "source": [
    "h[\"Product\"] = [l[\"Category\"], l[\"Sub category\"], l[\"Product\"]]"
   ]
  },
  {
   "attachments": {},
   "cell_type": "markdown",
   "metadata": {},
   "source": [
    "E vamos remover as antigas hierarquias:"
   ]
  },
  {
   "cell_type": "code",
   "execution_count": null,
   "metadata": {},
   "outputs": [],
   "source": [
    "del h[\"Category\"]\n",
    "del h[\"Sub category\"]"
   ]
  },
  {
   "cell_type": "code",
   "execution_count": null,
   "metadata": {},
   "outputs": [],
   "source": [
    "h"
   ]
  },
  {
   "attachments": {},
   "cell_type": "markdown",
   "metadata": {},
   "source": [
    "Também podemos fazer com **City**, **State or Region** e **Country** para fazer uma hierarquia **Geography**.\n",
    "\n",
    "Observe que, em vez de usar os níveis existentes, você também pode definir uma hierarquia com as colunas da tabela em que os níveis serão baseados:"
   ]
  },
  {
   "cell_type": "code",
   "execution_count": null,
   "metadata": {},
   "outputs": [],
   "source": [
    "h[\"Geography\"] = [\n",
    "    shops_table[\"Country\"],\n",
    "    shops_table[\"State or region\"],\n",
    "    shops_table[\"City\"],\n",
    "]\n",
    "del h[\"Country\"]\n",
    "del h[\"State or region\"]\n",
    "del h[\"City\"]"
   ]
  },
  {
   "attachments": {},
   "cell_type": "markdown",
   "metadata": {},
   "source": [
    "Como estamos reestruturando as hierarquias, vamos aproveitar para mudar também as dimensões.\n",
    "\n",
    "Uma dimensão reagrupa hierarquias do mesmo conceito.\n",
    "\n",
    "Para simplificar aqui, simplesmente moveremos a nova hierarquia **Geography** à sua própria dimensão:"
   ]
  },
  {
   "cell_type": "code",
   "execution_count": null,
   "metadata": {},
   "outputs": [],
   "source": [
    "h[\"Geography\"].dimension = \"Location\"\n",
    "h"
   ]
  },
  {
   "attachments": {},
   "cell_type": "markdown",
   "metadata": {},
   "source": [
    "Com isso, podemos definir novas medidas aproveitando a estrutura multinível.\n",
    "Por exemplo, podemos criar uma medida indicando o quanto um produto contribui para sua subcategoria:"
   ]
  },
  {
   "cell_type": "code",
   "execution_count": null,
   "metadata": {},
   "outputs": [],
   "source": [
    "m[\"Parent category amount\"] = tt.parent_value(\n",
    "    m[\"Amount.SUM\"], degrees={h[(\"Products\", \"Product\")]: 1}\n",
    ")"
   ]
  },
  {
   "cell_type": "code",
   "execution_count": null,
   "metadata": {},
   "outputs": [],
   "source": [
    "m[\"Percent of parent amount\"] = m[\"Amount.SUM\"] / m[\"Parent category amount\"]"
   ]
  },
  {
   "cell_type": "markdown",
   "metadata": {},
   "source": [
    "![Percent of parent](images/gifs/percent-of-parent.gif)"
   ]
  },
  {
   "cell_type": "code",
   "execution_count": null,
   "metadata": {},
   "outputs": [],
   "source": [
    "session.visualize()"
   ]
  },
  {
   "attachments": {},
   "cell_type": "markdown",
   "metadata": {},
   "source": [
    "## polindo o cubo"
   ]
  },
  {
   "attachments": {},
   "cell_type": "markdown",
   "metadata": {},
   "source": [
    "### Excluir ou ocultar medidas\n",
    "\n",
    "Algumas medidas foram criadas automaticamente a partir de colunas numéricas, mas não são úteis.\n",
    "Por exemplo, **Unit Price.SUM** realmente não faz sentido, pois nunca queremos somar os preços unitários.\n",
    "Podemos excluí-lo:"
   ]
  },
  {
   "cell_type": "code",
   "execution_count": null,
   "metadata": {},
   "outputs": [],
   "source": [
    "del m[\"Unit price.SUM\"]"
   ]
  },
  {
   "attachments": {},
   "cell_type": "markdown",
   "metadata": {},
   "source": [
    "Outras medidas foram usadas durante a construção do projeto apenas como etapas intermediárias, mas não são úteis para os usuários finais no aplicativo.\n",
    "Podemos ocultá-los da interface do usuário (eles permanecerão acessíveis em Python):"
   ]
  },
  {
   "cell_type": "code",
   "execution_count": null,
   "metadata": {},
   "outputs": [],
   "source": [
    "m[\"Parent category amount\"].visible = False"
   ]
  },
  {
   "attachments": {},
   "cell_type": "markdown",
   "metadata": {},
   "source": [
    "### Medir pastas\n",
    "\n",
    "As medidas podem ser reorganizadas em pastas."
   ]
  },
  {
   "cell_type": "code",
   "execution_count": null,
   "metadata": {},
   "outputs": [],
   "source": [
    "for measure in [\n",
    "    m[\"Amount.MEAN\"],\n",
    "    m[\"Amount.SUM\"],\n",
    "    m[\"Average amount per shop\"],\n",
    "    m[\"Cumulative amount\"],\n",
    "    m[\"Percent of parent amount\"],\n",
    "]:\n",
    "    measure.folder = \"Amount\""
   ]
  },
  {
   "cell_type": "code",
   "execution_count": null,
   "metadata": {},
   "outputs": [],
   "source": [
    "m"
   ]
  },
  {
   "attachments": {},
   "cell_type": "markdown",
   "metadata": {},
   "source": [
    "### Formatadores de medida\n",
    "\n",
    "Algumas medidas podem ser formatadas para uma exibição mais agradável.\n",
    "Exemplos clássicos disso são alterar o número de decimais ou adicionar uma porcentagem ou um símbolo de moeda.\n",
    "\n",
    "Vamos fazer isso para nossa porcentagem do valor pai e taxa de margem:\n",
    "\n",
    "#### Antes"
   ]
  },
  {
   "cell_type": "code",
   "execution_count": null,
   "metadata": {},
   "outputs": [],
   "source": [
    "cube.query(m[\"Percent of parent amount\"], m[\"Margin rate\"], levels=[l[\"Category\"]])"
   ]
  },
  {
   "cell_type": "code",
   "execution_count": null,
   "metadata": {},
   "outputs": [],
   "source": [
    "m[\"Percent of parent amount\"].formatter = \"DOUBLE[0.00%]\"\n",
    "m[\"Margin rate\"].formatter = \"DOUBLE[0.00%]\""
   ]
  },
  {
   "attachments": {},
   "cell_type": "markdown",
   "metadata": {},
   "source": [
    "#### Depois"
   ]
  },
  {
   "cell_type": "code",
   "execution_count": null,
   "metadata": {},
   "outputs": [],
   "source": [
    "cube.query(m[\"Percent of parent amount\"], m[\"Margin rate\"], levels=[l[\"Category\"]])"
   ]
  },
  {
   "attachments": {},
   "cell_type": "markdown",
   "metadata": {},
   "source": [
    "## Simulações\n",
    "\n",
    "Simulações são uma forma de comparar vários cenários e fazer análises hipotéticas.\n",
    "Isso ajuda a entender como a alteração dos dados de origem ou de uma parte do modelo afeta os principais indicadores.\n",
    "\n",
    "No atoti, o modelo de dados é feito de medidas encadeadas.\n",
    "Uma simulação pode ser vista como alterando uma parte do modelo, seja seus dados de origem ou uma de suas definições de medida e, em seguida, avaliando como isso afeta as medidas a seguir.\n",
    "\n",
    "### simulação de source\n",
    "\n",
    "Vamos começar mudando a source.\n",
    "Com pandas ou Spark, se você quiser comparar dois resultados para versões diferentes do conjunto de dados de entrada, terá que reaplicar todas as transformações ao seu conjunto de dados.\n",
    "Com o atoti, basta fornecer os novos dados e todas as medidas estarão automaticamente disponíveis para ambas as versões dos dados.\n",
    "\n",
    "Criaremos um novo cenário usando pandas para modificar o conjunto de dados original."
   ]
  },
  {
   "cell_type": "code",
   "execution_count": null,
   "metadata": {},
   "outputs": [],
   "source": [
    "import pandas as pd"
   ]
  },
  {
   "attachments": {},
   "cell_type": "markdown",
   "metadata": {},
   "source": [
    "Por exemplo, podemos simular o que aconteceria se tivéssemos conseguido comprar alguns produtos a um preço mais barato."
   ]
  },
  {
   "cell_type": "code",
   "execution_count": null,
   "metadata": {},
   "outputs": [],
   "source": [
    "products_df = pd.read_csv(\"data/products.csv\")\n",
    "products_df.head()"
   ]
  },
  {
   "cell_type": "code",
   "execution_count": null,
   "metadata": {},
   "outputs": [],
   "source": [
    "better_prices = {\n",
    "    \"TAB_0\": 180.0,\n",
    "    \"TAB_1\": 250.0,\n",
    "    \"CHA_2\": 40.0,\n",
    "    \"BED_3\": 110.0,\n",
    "    \"BED_4\": 210.0,\n",
    "}"
   ]
  },
  {
   "cell_type": "code",
   "execution_count": null,
   "metadata": {},
   "outputs": [],
   "source": [
    "for product, purchase_price in better_prices.items():\n",
    "    products_df.loc[\n",
    "        products_df[\"Product\"] == product, \"Purchase price\"\n",
    "    ] = purchase_price\n",
    "products_df.head()"
   ]
  },
  {
   "attachments": {},
   "cell_type": "markdown",
   "metadata": {},
   "source": [
    "Agora podemos carregar esse novo dataframe em um novo cenário da tabela de produtos."
   ]
  },
  {
   "cell_type": "code",
   "execution_count": null,
   "metadata": {},
   "outputs": [],
   "source": [
    "products_table.scenarios[\"Cheaper purchase prices\"].load_pandas(products_df)"
   ]
  },
  {
   "attachments": {},
   "cell_type": "markdown",
   "metadata": {},
   "source": [
    "A sessão agora tem dois cenários e as únicas diferenças entre eles são as linhas correspondentes aos produtos com melhores preços, todo o resto é compartilhado entre os cenários e não foi duplicado: os cenários de origem em atoti são eficientes em memória.\n",
    "\n",
    "<img alt=\"Source simulation\" src=\"images/olap/source-simulation.svg\" width=\"750\" />\n",
    "\n",
    "Usando o a hierarquia **Source Simulation**, podemos exibir a margem do cenário e compará-la com o caso base.\n",
    "\n",
    "![Source simulation comparison](images/gifs/source-simulation.gif)"
   ]
  },
  {
   "cell_type": "code",
   "execution_count": null,
   "metadata": {},
   "outputs": [],
   "source": [
    "session.visualize()"
   ]
  },
  {
   "attachments": {},
   "cell_type": "markdown",
   "metadata": {},
   "source": [
    "Observe que todas as medidas existentes estão imediatamente disponíveis nos novos dados.\n",
    "Por exemplo, a taxa de margem ainda existe, e podemos ver que nesse cenário teríamos uma margem melhor para os produtos Móveis.\n",
    "\n",
    "![Margin rate per product category and scenario](images/gifs/margin-rate-per-scenario.gif)"
   ]
  },
  {
   "cell_type": "code",
   "execution_count": null,
   "metadata": {},
   "outputs": [],
   "source": [
    "session.visualize()"
   ]
  },
  {
   "attachments": {},
   "cell_type": "markdown",
   "metadata": {},
   "source": [
    "### Simulações de parâmetros\n",
    "\n",
    "A outra técnica de simulação é criar uma medida de parâmetro cujo valor pode ser alterado para algumas coordenadas.\n",
    "\n",
    "Ao criar a simulação, você pode escolher em qual granularidade a modificação se aplica.\n",
    "Por exemplo, podemos criar uma medida de parâmetro cujo valor mudará dependendo do país.\n",
    "Fazendo isso, podemos responder a perguntas como \"O que acontece se houver uma crise na França e vendermos 20% menos?\""
   ]
  },
  {
   "cell_type": "code",
   "execution_count": null,
   "metadata": {},
   "outputs": [],
   "source": [
    "country_simulation = cube.create_parameter_simulation(\n",
    "    \"Country Simulation\",\n",
    "    levels=[l[\"Country\"]],\n",
    "    measures={\"Country parameter\": 1.0},\n",
    ")"
   ]
  },
  {
   "attachments": {},
   "cell_type": "markdown",
   "metadata": {},
   "source": [
    "Isso criou uma medida chamada **Country parameter** e adicioná-lo ao cubo. Por enquanto, seu valor é `1` em todos os lugares, mas usando o `country_simulation` podemos mudar isso.\n",
    "\n",
    "Ao adicionar valores na tabela, você pode alterar o valor da medida do parâmetro dependendo dos níveis usados na simulação e no cenário."
   ]
  },
  {
   "cell_type": "code",
   "execution_count": null,
   "metadata": {},
   "outputs": [],
   "source": [
    "country_simulation += (\"France Crisis\", \"France\", 0.80)\n",
    "country_simulation.head()"
   ]
  },
  {
   "attachments": {},
   "cell_type": "markdown",
   "metadata": {},
   "source": [
    "Vamos substituir o existente **Quantity.SUM** e **Amount.SUM** medidas com novas usando a medida de parâmetro da simulação."
   ]
  },
  {
   "cell_type": "code",
   "execution_count": null,
   "metadata": {},
   "outputs": [],
   "source": [
    "m[\"Quantity.SUM\"] = tt.agg.sum(\n",
    "    tt.agg.sum(sales_table[\"Quantity\"]) * m[\"Country parameter\"],\n",
    "    scope=tt.OriginScope(l[\"Country\"]),\n",
    ")\n",
    "m[\"Amount.SUM\"] = tt.agg.sum(\n",
    "    tt.agg.sum(sales_table[\"Unit price\"] * sales_table[\"Quantity\"])\n",
    "    * m[\"Country parameter\"],\n",
    "    scope=tt.OriginScope(l[\"Country\"]),\n",
    ")"
   ]
  },
  {
   "attachments": {},
   "cell_type": "markdown",
   "metadata": {},
   "source": [
    "Podemos consultar o cubo usando o novo nível **Country Simulation**  para comparar a quantidade e valor entre o caso base e nosso novo cenário:"
   ]
  },
  {
   "cell_type": "code",
   "execution_count": null,
   "metadata": {},
   "outputs": [],
   "source": [
    "cube.query(\n",
    "    m[\"Quantity.SUM\"],\n",
    "    m[\"Amount.SUM\"],\n",
    "    include_totals=True,\n",
    "    levels=[l[\"Country Simulation\"], l[\"Country\"]],\n",
    ")"
   ]
  },
  {
   "attachments": {},
   "cell_type": "markdown",
   "metadata": {},
   "source": [
    "Aqui, por exemplo, como o valor foi modificado, as medidas que dependem dele, como o valor acumulado, também são impactadas:"
   ]
  },
  {
   "cell_type": "code",
   "execution_count": null,
   "metadata": {},
   "outputs": [],
   "source": [
    "cube.query(m[\"Cumulative amount\"], levels=[l[\"Country Simulation\"], l[\"Country\"]])"
   ]
  },
  {
   "attachments": {},
   "cell_type": "markdown",
   "metadata": {},
   "source": [
    "Vamos tentar adicionar um cenário diferente:"
   ]
  },
  {
   "cell_type": "code",
   "execution_count": null,
   "metadata": {},
   "outputs": [],
   "source": [
    "country_simulation += (\"US boost\", \"USA\", 1.15)"
   ]
  },
  {
   "cell_type": "code",
   "execution_count": null,
   "metadata": {},
   "outputs": [],
   "source": [
    "cube.query(m[\"Quantity.SUM\"], levels=[l[\"Country Simulation\"], l[\"Country\"]])"
   ]
  },
  {
   "attachments": {},
   "cell_type": "markdown",
   "metadata": {},
   "source": [
    "Os dois cenários podem ser visualizados no mesmo widget:\n",
    "\n",
    "![Cumulative amount per scenario](images/gifs/cumulative-amount-per-scenario.gif)"
   ]
  },
  {
   "cell_type": "code",
   "execution_count": null,
   "metadata": {},
   "outputs": [],
   "source": [
    "session.visualize()"
   ]
  },
  {
   "attachments": {},
   "cell_type": "markdown",
   "metadata": {},
   "source": [
    "Finalmente, podemos até combinar as diferentes simulações (a de origem e a de medida) para criar uma matriz de cenários:\n",
    "\n",
    "![Matrix of scenarios](images/gifs/scenarios-matrix.gif)"
   ]
  },
  {
   "cell_type": "code",
   "execution_count": null,
   "metadata": {},
   "outputs": [],
   "source": [
    "session.visualize()"
   ]
  },
  {
   "attachments": {},
   "cell_type": "markdown",
   "metadata": {},
   "source": [
    "## Indo além\n",
    "\n",
    "Você aprendeu todos os fundamentos para construir um projeto com atoti, desde o conceito de análise multidimensional até simulações poderosas.\n",
    "\n",
    "Agora, encorajamos você a experimentar a biblioteca com seus próprios dados.\n",
    "Você também pode começar a aprender recursos mais avançados, como [session configuration](../../lib/atoti/atoti.session.rst), [custom endpoints](../../lib/atoti/atoti.session.rst#atoti.Session.endpoint), [querying](../../lib/atoti-query/atoti_query.rst), e [arrays](../../lib/atoti/atoti.array.rst)."
   ]
  }
 ],
 "metadata": {
  "kernelspec": {
   "display_name": "Python 3 (ipykernel)",
   "language": "python",
   "name": "python3"
  },
  "language_info": {
   "codemirror_mode": {
    "name": "ipython",
    "version": 3
   },
   "file_extension": ".py",
   "mimetype": "text/x-python",
   "name": "python",
   "nbconvert_exporter": "python",
   "pygments_lexer": "ipython3",
   "version": "3.8.13"
  },
  "vscode": {
   "interpreter": {
    "hash": "72bdf96a3bacc598b7b1cb0770deb202535f9127ebedb467175ccd686b1e5038"
   }
  }
 },
 "nbformat": 4,
 "nbformat_minor": 4
}
