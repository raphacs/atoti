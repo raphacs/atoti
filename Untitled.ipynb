{
 "cells": [
  {
   "cell_type": "markdown",
   "id": "1eab7a0d",
   "metadata": {},
   "source": [
    "# IMPORTANDO DE UM CSV"
   ]
  },
  {
   "cell_type": "code",
   "execution_count": 1,
   "id": "4fe23a1f",
   "metadata": {
    "tags": []
   },
   "outputs": [],
   "source": [
    "import pandas as pd"
   ]
  },
  {
   "cell_type": "code",
   "execution_count": 2,
   "id": "7d91b4aa",
   "metadata": {
    "tags": []
   },
   "outputs": [],
   "source": [
    "videos_df = pd.read_csv(\n",
    "    \"archive/USvideos.csv\",\n",
    "    usecols=[\n",
    "        \"category_id\",\n",
    "        \"channel_title\",\n",
    "        \"title\",\n",
    "        \"trending_date\",\n",
    "        \"video_id\",\n",
    "        \"views\",\n",
    "    ],\n",
    ")"
   ]
  },
  {
   "cell_type": "code",
   "execution_count": 3,
   "id": "7621ad94-e6ea-4823-ad53-f2790ed23875",
   "metadata": {
    "tags": []
   },
   "outputs": [],
   "source": [
    "# Analise a data de tendência e divida-a em colunas de ano/mês/dia.\n",
    "trending_date = pd.to_datetime(\n",
    "    videos_df[\"trending_date\"],\n",
    "    format=\"%y.%d.%m\"\n",
    ")"
   ]
  },
  {
   "cell_type": "code",
   "execution_count": 4,
   "id": "e140aeff-49fe-4e06-85ac-4ecf67bb67c6",
   "metadata": {
    "tags": []
   },
   "outputs": [],
   "source": [
    "videos_df[\"trending_date\"] = trending_date.dt.date\n",
    "videos_df[\"trending_year\"] = trending_date.dt.year\n",
    "videos_df[\"trending_month\"] = trending_date.dt.month\n",
    "videos_df[\"trending_day\"] = trending_date.dt.day"
   ]
  },
  {
   "cell_type": "code",
   "execution_count": 5,
   "id": "82732aa6-14c4-42d7-9684-9fa0c0b0eee2",
   "metadata": {
    "tags": []
   },
   "outputs": [
    {
     "data": {
      "text/html": [
       "<div>\n",
       "<style scoped>\n",
       "    .dataframe tbody tr th:only-of-type {\n",
       "        vertical-align: middle;\n",
       "    }\n",
       "\n",
       "    .dataframe tbody tr th {\n",
       "        vertical-align: top;\n",
       "    }\n",
       "\n",
       "    .dataframe thead th {\n",
       "        text-align: right;\n",
       "    }\n",
       "</style>\n",
       "<table border=\"1\" class=\"dataframe\">\n",
       "  <thead>\n",
       "    <tr style=\"text-align: right;\">\n",
       "      <th></th>\n",
       "      <th>video_id</th>\n",
       "      <th>trending_date</th>\n",
       "      <th>title</th>\n",
       "      <th>channel_title</th>\n",
       "      <th>category_id</th>\n",
       "      <th>views</th>\n",
       "      <th>trending_year</th>\n",
       "      <th>trending_month</th>\n",
       "      <th>trending_day</th>\n",
       "    </tr>\n",
       "  </thead>\n",
       "  <tbody>\n",
       "    <tr>\n",
       "      <th>24253</th>\n",
       "      <td>pspGtXW0QYo</td>\n",
       "      <td>2018-03-17</td>\n",
       "      <td>Cat Mind Control</td>\n",
       "      <td>AaronsAnimals</td>\n",
       "      <td>15</td>\n",
       "      <td>436696</td>\n",
       "      <td>2018</td>\n",
       "      <td>3</td>\n",
       "      <td>17</td>\n",
       "    </tr>\n",
       "    <tr>\n",
       "      <th>14414</th>\n",
       "      <td>I5qFoctplSU</td>\n",
       "      <td>2018-01-27</td>\n",
       "      <td>Best Hands: 2018 Pro Bowl Skills Showdown | NF...</td>\n",
       "      <td>NFL</td>\n",
       "      <td>17</td>\n",
       "      <td>730611</td>\n",
       "      <td>2018</td>\n",
       "      <td>1</td>\n",
       "      <td>27</td>\n",
       "    </tr>\n",
       "    <tr>\n",
       "      <th>6344</th>\n",
       "      <td>B7B6x2bHcUs</td>\n",
       "      <td>2017-12-15</td>\n",
       "      <td>Get to know Doug Jones, Alabama's newest Senator</td>\n",
       "      <td>Newsy</td>\n",
       "      <td>25</td>\n",
       "      <td>1087</td>\n",
       "      <td>2017</td>\n",
       "      <td>12</td>\n",
       "      <td>15</td>\n",
       "    </tr>\n",
       "    <tr>\n",
       "      <th>11650</th>\n",
       "      <td>lzZadh-D8Tk</td>\n",
       "      <td>2018-01-13</td>\n",
       "      <td>KUWTK | Khloé Kardashian Sees the Positive in ...</td>\n",
       "      <td>E! Entertainment</td>\n",
       "      <td>24</td>\n",
       "      <td>289078</td>\n",
       "      <td>2018</td>\n",
       "      <td>1</td>\n",
       "      <td>13</td>\n",
       "    </tr>\n",
       "    <tr>\n",
       "      <th>13127</th>\n",
       "      <td>3hn14sIQc6E</td>\n",
       "      <td>2018-01-20</td>\n",
       "      <td>Dolores O'Riordan, The Cranberries singer, dea...</td>\n",
       "      <td>New York Daily News</td>\n",
       "      <td>25</td>\n",
       "      <td>391175</td>\n",
       "      <td>2018</td>\n",
       "      <td>1</td>\n",
       "      <td>20</td>\n",
       "    </tr>\n",
       "  </tbody>\n",
       "</table>\n",
       "</div>"
      ],
      "text/plain": [
       "          video_id trending_date  \\\n",
       "24253  pspGtXW0QYo    2018-03-17   \n",
       "14414  I5qFoctplSU    2018-01-27   \n",
       "6344   B7B6x2bHcUs    2017-12-15   \n",
       "11650  lzZadh-D8Tk    2018-01-13   \n",
       "13127  3hn14sIQc6E    2018-01-20   \n",
       "\n",
       "                                                   title        channel_title  \\\n",
       "24253                                   Cat Mind Control        AaronsAnimals   \n",
       "14414  Best Hands: 2018 Pro Bowl Skills Showdown | NF...                  NFL   \n",
       "6344    Get to know Doug Jones, Alabama's newest Senator                Newsy   \n",
       "11650  KUWTK | Khloé Kardashian Sees the Positive in ...     E! Entertainment   \n",
       "13127  Dolores O'Riordan, The Cranberries singer, dea...  New York Daily News   \n",
       "\n",
       "       category_id   views  trending_year  trending_month  trending_day  \n",
       "24253           15  436696           2018               3            17  \n",
       "14414           17  730611           2018               1            27  \n",
       "6344            25    1087           2017              12            15  \n",
       "11650           24  289078           2018               1            13  \n",
       "13127           25  391175           2018               1            20  "
      ]
     },
     "execution_count": 5,
     "metadata": {},
     "output_type": "execute_result"
    }
   ],
   "source": [
    "videos_df.sample(5)"
   ]
  },
  {
   "cell_type": "markdown",
   "id": "e951abb9",
   "metadata": {},
   "source": [
    "# IMPORTANDO DE UM JSON"
   ]
  },
  {
   "cell_type": "code",
   "execution_count": 8,
   "id": "bb631fff-7a16-4ef9-a524-3e9f3a5b1d85",
   "metadata": {
    "tags": []
   },
   "outputs": [],
   "source": [
    "import json\n",
    "from pathlib import Path"
   ]
  },
  {
   "cell_type": "code",
   "execution_count": 11,
   "id": "baf0f7b7",
   "metadata": {
    "tags": []
   },
   "outputs": [],
   "source": [
    "#Analise o arquivo JSON contendo o mapeamento entre um ID de categoria e seu título e crie um DataFrame a partir dele.\n",
    "\n",
    "category_data = json.loads(Path(\"archive/US_category_id.json\").read_text())"
   ]
  },
  {
   "cell_type": "code",
   "execution_count": 12,
   "id": "8c2172a9-0b24-444f-9527-004ddc892285",
   "metadata": {
    "tags": []
   },
   "outputs": [],
   "source": [
    "data = [\n",
    "    [int(item[\"id\"]), item[\"snippet\"][\"title\"]]\n",
    "    for item in category_data[\"items\"]\n",
    "]"
   ]
  },
  {
   "cell_type": "code",
   "execution_count": 13,
   "id": "dde4ca3f-da5e-4495-85c7-f710a93f54ec",
   "metadata": {
    "tags": []
   },
   "outputs": [],
   "source": [
    "categories_df = pd.DataFrame(data, columns=[\"id\", \"category_title\"])"
   ]
  },
  {
   "cell_type": "code",
   "execution_count": 14,
   "id": "330aebd6-355b-4dca-b667-58ab475bd88a",
   "metadata": {
    "tags": []
   },
   "outputs": [
    {
     "data": {
      "text/html": [
       "<div>\n",
       "<style scoped>\n",
       "    .dataframe tbody tr th:only-of-type {\n",
       "        vertical-align: middle;\n",
       "    }\n",
       "\n",
       "    .dataframe tbody tr th {\n",
       "        vertical-align: top;\n",
       "    }\n",
       "\n",
       "    .dataframe thead th {\n",
       "        text-align: right;\n",
       "    }\n",
       "</style>\n",
       "<table border=\"1\" class=\"dataframe\">\n",
       "  <thead>\n",
       "    <tr style=\"text-align: right;\">\n",
       "      <th></th>\n",
       "      <th>id</th>\n",
       "      <th>category_title</th>\n",
       "    </tr>\n",
       "  </thead>\n",
       "  <tbody>\n",
       "    <tr>\n",
       "      <th>0</th>\n",
       "      <td>1</td>\n",
       "      <td>Film &amp; Animation</td>\n",
       "    </tr>\n",
       "    <tr>\n",
       "      <th>1</th>\n",
       "      <td>2</td>\n",
       "      <td>Autos &amp; Vehicles</td>\n",
       "    </tr>\n",
       "    <tr>\n",
       "      <th>2</th>\n",
       "      <td>10</td>\n",
       "      <td>Music</td>\n",
       "    </tr>\n",
       "    <tr>\n",
       "      <th>3</th>\n",
       "      <td>15</td>\n",
       "      <td>Pets &amp; Animals</td>\n",
       "    </tr>\n",
       "    <tr>\n",
       "      <th>4</th>\n",
       "      <td>17</td>\n",
       "      <td>Sports</td>\n",
       "    </tr>\n",
       "  </tbody>\n",
       "</table>\n",
       "</div>"
      ],
      "text/plain": [
       "   id    category_title\n",
       "0   1  Film & Animation\n",
       "1   2  Autos & Vehicles\n",
       "2  10             Music\n",
       "3  15    Pets & Animals\n",
       "4  17            Sports"
      ]
     },
     "execution_count": 14,
     "metadata": {},
     "output_type": "execute_result"
    }
   ],
   "source": [
    "categories_df.head()"
   ]
  },
  {
   "cell_type": "markdown",
   "id": "47682e9e",
   "metadata": {},
   "source": [
    "Primeiras cinco categorias com seu ID e título"
   ]
  },
  {
   "cell_type": "markdown",
   "id": "73177d1e",
   "metadata": {},
   "source": [
    "Agora que os DataFrames estão preparados, podemos criar o cubo analítico atoti:"
   ]
  },
  {
   "cell_type": "code",
   "execution_count": 15,
   "id": "cfe8eb97-bd58-4268-9c46-004d780b542d",
   "metadata": {
    "tags": []
   },
   "outputs": [
    {
     "name": "stdout",
     "output_type": "stream",
     "text": [
      "Welcome to atoti 0.7.3!\n",
      "\n",
      "By using this community edition, you agree with the license available at https://docs.atoti.io/latest/eula.html.\n",
      "Browse the official documentation at https://docs.atoti.io.\n",
      "Join the community at https://www.atoti.io/register.\n",
      "\n",
      "atoti collects telemetry data, which is used to help understand how to improve the product.\n",
      "If you don't wish to send usage data, you can apply for an evaluation license at https://www.atoti.io/contact and then install the `atoti-plus` plugin.\n",
      "\n",
      "You can hide this message by setting the `ATOTI_HIDE_EULA_MESSAGE` environment variable to True.\n"
     ]
    }
   ],
   "source": [
    "import atoti as tt"
   ]
  },
  {
   "cell_type": "code",
   "execution_count": 17,
   "id": "dd8f54da-fe9f-4ba0-9c15-d9d3eba56996",
   "metadata": {
    "tags": []
   },
   "outputs": [],
   "source": [
    "#criando sessao\n",
    "session = tt.Session()"
   ]
  },
  {
   "cell_type": "code",
   "execution_count": null,
   "id": "377aa2cd-0238-472c-a3fc-99a50e1d023c",
   "metadata": {},
   "outputs": [],
   "source": []
  }
 ],
 "metadata": {
  "kernelspec": {
   "display_name": "Python 3 (ipykernel)",
   "language": "python",
   "name": "python3"
  },
  "language_info": {
   "codemirror_mode": {
    "name": "ipython",
    "version": 3
   },
   "file_extension": ".py",
   "mimetype": "text/x-python",
   "name": "python",
   "nbconvert_exporter": "python",
   "pygments_lexer": "ipython3",
   "version": "3.11.2"
  }
 },
 "nbformat": 4,
 "nbformat_minor": 5
}
