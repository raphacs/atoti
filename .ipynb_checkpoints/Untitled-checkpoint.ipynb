{
 "cells": [
  {
   "cell_type": "code",
   "execution_count": 1,
   "id": "4fe23a1f",
   "metadata": {
    "tags": []
   },
   "outputs": [],
   "source": [
    "import pandas as pd"
   ]
  },
  {
   "cell_type": "code",
   "execution_count": 2,
   "id": "7d91b4aa",
   "metadata": {
    "tags": []
   },
   "outputs": [],
   "source": [
    "videos_df = pd.read_csv(\n",
    "    \"archive/USvideos.csv\",\n",
    "    usecols=[\n",
    "        \"category_id\",\n",
    "        \"channel_title\",\n",
    "        \"title\",\n",
    "        \"trending_date\",\n",
    "        \"video_id\",\n",
    "        \"views\",\n",
    "    ],\n",
    ")"
   ]
  },
  {
   "cell_type": "code",
   "execution_count": 3,
   "id": "7621ad94-e6ea-4823-ad53-f2790ed23875",
   "metadata": {
    "tags": []
   },
   "outputs": [],
   "source": [
    "# Analise a data de tendência e divida-a em colunas de ano/mês/dia.\n",
    "trending_date = pd.to_datetime(\n",
    "    videos_df[\"trending_date\"],\n",
    "    format=\"%y.%d.%m\"\n",
    ")"
   ]
  },
  {
   "cell_type": "code",
   "execution_count": 4,
   "id": "e140aeff-49fe-4e06-85ac-4ecf67bb67c6",
   "metadata": {
    "tags": []
   },
   "outputs": [],
   "source": [
    "videos_df[\"trending_date\"] = trending_date.dt.date\n",
    "videos_df[\"trending_year\"] = trending_date.dt.year\n",
    "videos_df[\"trending_month\"] = trending_date.dt.month\n",
    "videos_df[\"trending_day\"] = trending_date.dt.day"
   ]
  },
  {
   "cell_type": "code",
   "execution_count": 5,
   "id": "82732aa6-14c4-42d7-9684-9fa0c0b0eee2",
   "metadata": {
    "tags": []
   },
   "outputs": [
    {
     "data": {
      "text/html": [
       "<div>\n",
       "<style scoped>\n",
       "    .dataframe tbody tr th:only-of-type {\n",
       "        vertical-align: middle;\n",
       "    }\n",
       "\n",
       "    .dataframe tbody tr th {\n",
       "        vertical-align: top;\n",
       "    }\n",
       "\n",
       "    .dataframe thead th {\n",
       "        text-align: right;\n",
       "    }\n",
       "</style>\n",
       "<table border=\"1\" class=\"dataframe\">\n",
       "  <thead>\n",
       "    <tr style=\"text-align: right;\">\n",
       "      <th></th>\n",
       "      <th>video_id</th>\n",
       "      <th>trending_date</th>\n",
       "      <th>title</th>\n",
       "      <th>channel_title</th>\n",
       "      <th>category_id</th>\n",
       "      <th>views</th>\n",
       "      <th>trending_year</th>\n",
       "      <th>trending_month</th>\n",
       "      <th>trending_day</th>\n",
       "    </tr>\n",
       "  </thead>\n",
       "  <tbody>\n",
       "    <tr>\n",
       "      <th>24253</th>\n",
       "      <td>pspGtXW0QYo</td>\n",
       "      <td>2018-03-17</td>\n",
       "      <td>Cat Mind Control</td>\n",
       "      <td>AaronsAnimals</td>\n",
       "      <td>15</td>\n",
       "      <td>436696</td>\n",
       "      <td>2018</td>\n",
       "      <td>3</td>\n",
       "      <td>17</td>\n",
       "    </tr>\n",
       "    <tr>\n",
       "      <th>14414</th>\n",
       "      <td>I5qFoctplSU</td>\n",
       "      <td>2018-01-27</td>\n",
       "      <td>Best Hands: 2018 Pro Bowl Skills Showdown | NF...</td>\n",
       "      <td>NFL</td>\n",
       "      <td>17</td>\n",
       "      <td>730611</td>\n",
       "      <td>2018</td>\n",
       "      <td>1</td>\n",
       "      <td>27</td>\n",
       "    </tr>\n",
       "    <tr>\n",
       "      <th>6344</th>\n",
       "      <td>B7B6x2bHcUs</td>\n",
       "      <td>2017-12-15</td>\n",
       "      <td>Get to know Doug Jones, Alabama's newest Senator</td>\n",
       "      <td>Newsy</td>\n",
       "      <td>25</td>\n",
       "      <td>1087</td>\n",
       "      <td>2017</td>\n",
       "      <td>12</td>\n",
       "      <td>15</td>\n",
       "    </tr>\n",
       "    <tr>\n",
       "      <th>11650</th>\n",
       "      <td>lzZadh-D8Tk</td>\n",
       "      <td>2018-01-13</td>\n",
       "      <td>KUWTK | Khloé Kardashian Sees the Positive in ...</td>\n",
       "      <td>E! Entertainment</td>\n",
       "      <td>24</td>\n",
       "      <td>289078</td>\n",
       "      <td>2018</td>\n",
       "      <td>1</td>\n",
       "      <td>13</td>\n",
       "    </tr>\n",
       "    <tr>\n",
       "      <th>13127</th>\n",
       "      <td>3hn14sIQc6E</td>\n",
       "      <td>2018-01-20</td>\n",
       "      <td>Dolores O'Riordan, The Cranberries singer, dea...</td>\n",
       "      <td>New York Daily News</td>\n",
       "      <td>25</td>\n",
       "      <td>391175</td>\n",
       "      <td>2018</td>\n",
       "      <td>1</td>\n",
       "      <td>20</td>\n",
       "    </tr>\n",
       "  </tbody>\n",
       "</table>\n",
       "</div>"
      ],
      "text/plain": [
       "          video_id trending_date  \\\n",
       "24253  pspGtXW0QYo    2018-03-17   \n",
       "14414  I5qFoctplSU    2018-01-27   \n",
       "6344   B7B6x2bHcUs    2017-12-15   \n",
       "11650  lzZadh-D8Tk    2018-01-13   \n",
       "13127  3hn14sIQc6E    2018-01-20   \n",
       "\n",
       "                                                   title        channel_title  \\\n",
       "24253                                   Cat Mind Control        AaronsAnimals   \n",
       "14414  Best Hands: 2018 Pro Bowl Skills Showdown | NF...                  NFL   \n",
       "6344    Get to know Doug Jones, Alabama's newest Senator                Newsy   \n",
       "11650  KUWTK | Khloé Kardashian Sees the Positive in ...     E! Entertainment   \n",
       "13127  Dolores O'Riordan, The Cranberries singer, dea...  New York Daily News   \n",
       "\n",
       "       category_id   views  trending_year  trending_month  trending_day  \n",
       "24253           15  436696           2018               3            17  \n",
       "14414           17  730611           2018               1            27  \n",
       "6344            25    1087           2017              12            15  \n",
       "11650           24  289078           2018               1            13  \n",
       "13127           25  391175           2018               1            20  "
      ]
     },
     "execution_count": 5,
     "metadata": {},
     "output_type": "execute_result"
    }
   ],
   "source": [
    "videos_df.sample(5)"
   ]
  },
  {
   "cell_type": "code",
   "execution_count": null,
   "id": "bb631fff-7a16-4ef9-a524-3e9f3a5b1d85",
   "metadata": {},
   "outputs": [],
   "source": []
  }
 ],
 "metadata": {
  "kernelspec": {
   "display_name": "Python 3 (ipykernel)",
   "language": "python",
   "name": "python3"
  },
  "language_info": {
   "codemirror_mode": {
    "name": "ipython",
    "version": 3
   },
   "file_extension": ".py",
   "mimetype": "text/x-python",
   "name": "python",
   "nbconvert_exporter": "python",
   "pygments_lexer": "ipython3",
   "version": "3.11.2"
  }
 },
 "nbformat": 4,
 "nbformat_minor": 5
}
